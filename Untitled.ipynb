{
 "cells": [
  {
   "cell_type": "code",
   "execution_count": 31,
   "id": "b8cf5a07",
   "metadata": {},
   "outputs": [
    {
     "name": "stdout",
     "output_type": "stream",
     "text": [
      "-311277.75204667595\n"
     ]
    }
   ],
   "source": [
    "from CoolProp.CoolProp import PropsSI\n",
    "import json, CoolProp.CoolProp as CP\n",
    "CP.set_config_string(CP.ALTERNATIVE_REFPROP_PATH, 'C:/Program Files (x86)/REFPROP')\n",
    "\n",
    "fluid = 'REFPROP::WATER'\n",
    "T = 400\n",
    "P = 240000\n",
    "\n",
    "\n",
    "\n",
    "\n",
    "\n",
    "\n",
    "dPdv = -PropsSI('D','T', T, 'P', P, fluid)**2 * PropsSI('d(P)/d(D)|T','T', T, 'P', P, fluid)\n",
    "print( dPdv  )"
   ]
  },
  {
   "cell_type": "code",
   "execution_count": null,
   "id": "d9bf4f35",
   "metadata": {},
   "outputs": [],
   "source": []
  }
 ],
 "metadata": {
  "kernelspec": {
   "display_name": "Python 3 (ipykernel)",
   "language": "python",
   "name": "python3"
  },
  "language_info": {
   "codemirror_mode": {
    "name": "ipython",
    "version": 3
   },
   "file_extension": ".py",
   "mimetype": "text/x-python",
   "name": "python",
   "nbconvert_exporter": "python",
   "pygments_lexer": "ipython3",
   "version": "3.9.12"
  }
 },
 "nbformat": 4,
 "nbformat_minor": 5
}
